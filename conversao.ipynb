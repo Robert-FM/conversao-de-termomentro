{
 "cells": [
  {
   "cell_type": "markdown",
   "id": "cf23a74e",
   "metadata": {},
   "source": [
    "# 🔧 1. Definindo o problema\n",
    "\n",
    "Vamos usar Deep Learning para prever a temperatura em Fahrenheit a partir da temperatura em Celsius.\n",
    "\n",
    "A fórmula tradicional seria:\n",
    "\n",
    "**F = 1.8*C + 32**\n",
    "\n",
    "Mas em vez da fórmula, vamos ensinar a rede a aprender essa relação com dados."
   ]
  },
  {
   "cell_type": "code",
   "execution_count": 1,
   "id": "9f6f604d",
   "metadata": {},
   "outputs": [],
   "source": [
    "import numpy as np\n",
    "from tensorflow import keras\n",
    "from tensorflow.keras import layers\n",
    "import matplotlib.pyplot as plt"
   ]
  },
  {
   "cell_type": "markdown",
   "id": "97a7992f",
   "metadata": {},
   "source": [
    "# 📋 2. Preparar os dados"
   ]
  },
  {
   "cell_type": "code",
   "execution_count": 2,
   "id": "02df4ab2",
   "metadata": {},
   "outputs": [],
   "source": [
    "# Lista de temperaturas em Celsius (entrada)\n",
    "celsius = np.array([-40, -10, 0, 8, 15, 22, 38], dtype=float)\n",
    "\n",
    "# Temperaturas correspondentes em Fahrenheit (rótulo/target)\n",
    "fahrenheit = np.array([-40, 14, 32, 46.4, 59, 71.6, 100.4], dtype=float)"
   ]
  },
  {
   "cell_type": "markdown",
   "id": "cf8ffbe2",
   "metadata": {},
   "source": [
    "# 🧠 3. Construir o modelo com Keras (TensorFlow)"
   ]
  },
  {
   "cell_type": "code",
   "execution_count": 3,
   "id": "5928a546",
   "metadata": {},
   "outputs": [],
   "source": [
    "# Modelo sequencial simples com 1 neurônio (regressão linear)\n",
    "model = keras.Sequential([\n",
    "    keras.Input(shape=(1,)),\n",
    "    layers.Dense(units=1)\n",
    "])"
   ]
  },
  {
   "cell_type": "markdown",
   "id": "1fd702c7",
   "metadata": {},
   "source": [
    "# ⚙️ 4. Compilar o modelo"
   ]
  },
  {
   "cell_type": "code",
   "execution_count": 4,
   "id": "f49bdc21",
   "metadata": {},
   "outputs": [],
   "source": [
    "#model.compile(optimizer='adam',loss='mean_squared_error')\n",
    "model.compile(optimizer=keras.optimizers.Adam(learning_rate=0.1), loss='mse')"
   ]
  },
  {
   "cell_type": "markdown",
   "id": "2546158e",
   "metadata": {},
   "source": [
    "# 🏋️ 5. Treinar o modelo"
   ]
  },
  {
   "cell_type": "code",
   "execution_count": 5,
   "id": "4842168e",
   "metadata": {},
   "outputs": [],
   "source": [
    "# Treinamento\n",
    "history = model.fit(celsius,fahrenheit,epochs=700,verbose=0)"
   ]
  },
  {
   "cell_type": "markdown",
   "id": "9c7070ac",
   "metadata": {},
   "source": [
    "# 📈 5.1 Visualização da perda\n",
    "### Você pode visualizar a evolução da perda:"
   ]
  },
  {
   "cell_type": "code",
   "execution_count": 6,
   "id": "94f37b8c",
   "metadata": {},
   "outputs": [
    {
     "data": {
      "image/png": "[encoded data removed]",
      "text/plain": [
       "<Figure size 640x480 with 1 Axes>"
      ]
     },
     "metadata": {},
     "output_type": "display_data"
    }
   ],
   "source": [
    "plt.plot(history.history['loss'])\n",
    "plt.xlabel('Epoch')\n",
    "plt.ylabel('Loss')\n",
    "plt.title('Erro de Treinamento')\n",
    "plt.show()"
   ]
  },
  {
   "cell_type": "markdown",
   "id": "21e61775",
   "metadata": {},
   "source": [
    "# 🔍 6. Testar o modelo"
   ]
  },
  {
   "cell_type": "code",
   "execution_count": 7,
   "id": "0b6efd5b",
   "metadata": {},
   "outputs": [
    {
     "name": "stdout",
     "output_type": "stream",
     "text": [
      "\u001b[1m1/1\u001b[0m \u001b[32m━━━━━━━━━━━━━━━━━━━━\u001b[0m\u001b[37m\u001b[0m \u001b[1m0s\u001b[0m 36ms/step\n",
      "🌡️  Previsão para 100 °C: 211.92 °F\n"
     ]
    }
   ],
   "source": [
    "# Previsão com entrada correta\n",
    "entrada = np.array([[100.0]])\n",
    "saida = model.predict(entrada)\n",
    "print(f\"🌡️  Previsão para 100 °C: {saida[0][0]:.2f} °F\")"
   ]
  },
  {
   "cell_type": "markdown",
   "id": "d82ea4f9",
   "metadata": {},
   "source": [
    "# 🧮 7. Visualizar pesos aprendidos (equivalentes à equação linear y = m*x + b)"
   ]
  },
  {
   "cell_type": "code",
   "execution_count": 8,
   "id": "67002514",
   "metadata": {},
   "outputs": [
    {
     "name": "stdout",
     "output_type": "stream",
     "text": [
      "Peso (inclinação): 1.80\n",
      "Bias (intercepto): 31.47\n",
      "Equação aprendida: y = 1.80 * x + 31.47\n"
     ]
    }
   ],
   "source": [
    "weights = model.get_weights()\n",
    "print(f\"Peso (inclinação): {weights[0][0][0]:.2f}\")\n",
    "print(f\"Bias (intercepto): {weights[1][0]:.2f}\")\n",
    "print(f\"Equação aprendida: y = {weights[0][0][0]:.2f} * x + {weights[1][0]:.2f}\")"
   ]
  },
  {
   "cell_type": "code",
   "execution_count": 10,
   "id": "880e1e52",
   "metadata": {},
   "outputs": [],
   "source": [
    "import os\n",
    "\n",
    "# Cria a pasta se não existir\n",
    "os.makedirs('modelo_salvo',exist_ok=True)\n",
    "\n",
    "# Salva o modelo em formato HDF5 (.h5)\n",
    "model.save('modelo_salvo/modelo_rede_neural_temperatura.keras')"
   ]
  },
  {
   "cell_type": "code",
   "execution_count": null,
   "id": "2385916c",
   "metadata": {},
   "outputs": [],
   "source": [
    "#from tensorflow.keras.models import load_model\n",
    "\n",
    "# Carrega o modelo salvo\n",
    "#modelo_carregado = load_model('modelos_salvos/modelo_rede_neural.keras')\n",
    "\n",
    "# Usar o modelo para prever\n",
    "#predicao = modelo_carregado.predict(novos_dados)\n"
   ]
  }
 ],
 "metadata": {
  "kernelspec": {
   "display_name": "venv",
   "language": "python",
   "name": "python3"
  },
  "language_info": {
   "codemirror_mode": {
    "name": "ipython",
    "version": 3
   },
   "file_extension": ".py",
   "mimetype": "text/x-python",
   "name": "python",
   "nbconvert_exporter": "python",
   "pygments_lexer": "ipython3",
   "version": "3.11.0"
  }
 },
 "nbformat": 4,
 "nbformat_minor": 5
}
